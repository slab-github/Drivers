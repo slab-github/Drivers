{
 "cells": [
  {
   "cell_type": "code",
   "execution_count": 1,
   "metadata": {},
   "outputs": [
    {
     "name": "stdout",
     "output_type": "stream",
     "text": [
      "Could not load InstrumentManagerWindow\n",
      "Could not import QickSoc: No module named 'pynq'\n",
      "Could not import QickInstrument, try install qick package\n",
      "Could not load labbrick\n",
      "Could not load Autonics TM4 Driver\n",
      "Could not load Oxford Trition driver\n"
     ]
    }
   ],
   "source": [
    "# from slab.instruments import *\n",
    "# from slab.experiment import Experiment\n",
    "# from slab.datamanagement import SlabFile\n",
    "# from slab import get_next_filename, AttrDict\n",
    "\n",
    "from TT075 import TT075\n",
    "from slab import get_next_filename, AttrDict\n",
    "from slab.instruments import *\n",
    "import yaml\n",
    "\n",
    "%load_ext autoreload\n",
    "%autoreload 2\n",
    "\n"
   ]
  },
  {
   "attachments": {},
   "cell_type": "markdown",
   "metadata": {},
   "source": [
    "### Import Power supply for the HEMTs"
   ]
  },
  {
   "cell_type": "code",
   "execution_count": 2,
   "metadata": {},
   "outputs": [],
   "source": [
    "power_supply_C5C6 = TT075(address='COM3')\n",
    "im = InstrumentManager(ns_address='192.168.137.1')"
   ]
  },
  {
   "attachments": {},
   "cell_type": "markdown",
   "metadata": {},
   "source": [
    "### Default 4K parameters for the lines "
   ]
  },
  {
   "cell_type": "code",
   "execution_count": 6,
   "metadata": {},
   "outputs": [
    {
     "name": "stdout",
     "output_type": "stream",
     "text": [
      "Config will be C:\\_Lib\\python\\HEMT_config.yml\n"
     ]
    }
   ],
   "source": [
    "config_file = 'HEMT_config.yml'\n",
    "config_path = 'C:\\\\_Lib\\\\python' + '\\\\' + config_file\n",
    "print('Config will be', config_path)"
   ]
  },
  {
   "cell_type": "code",
   "execution_count": 7,
   "metadata": {},
   "outputs": [],
   "source": [
    "with open(config_path, 'r') as cfg_file:\n",
    "    yaml_cfg = yaml.safe_load(cfg_file)\n",
    "yaml_cfg = AttrDict(yaml_cfg)"
   ]
  },
  {
   "attachments": {},
   "cell_type": "markdown",
   "metadata": {},
   "source": [
    "### Set the default gate and drain voltage "
   ]
  },
  {
   "cell_type": "code",
   "execution_count": 17,
   "metadata": {},
   "outputs": [
    {
     "name": "stdout",
     "output_type": "stream",
     "text": [
      "Channel set on: 1\n",
      "Slot set on: 1\n",
      "Channel switched on\n",
      "Drain voltage set to: 0.593 V\n",
      "Gate voltage set to: -1.250 V\n",
      "Channel set on: 2\n",
      "Slot set on: 1\n",
      "Channel switched on\n",
      "Drain voltage set to: 0.594 V\n",
      "Gate voltage set to: -1.280 V\n"
     ]
    }
   ],
   "source": [
    "idx_C5 = np.argwhere(np.array(yaml_cfg.HEMT.line) == 'C5')[0][0]\n",
    "idx_C6 = np.argwhere(np.array(yaml_cfg.HEMT.line) == 'C6')[0][0]\n",
    "\n",
    "power_supply_C5C6.switch_on(slot=yaml_cfg.HEMT.slot[idx_C5], channel=yaml_cfg.HEMT.channel[idx_C5],\n",
    "                             drain_voltage=yaml_cfg.HEMT.drain_voltage[idx_C5],\n",
    "                               gate_voltage=yaml_cfg.HEMT.gate_voltage[idx_C5])\n",
    "\n",
    "power_supply_C5C6.switch_on(slot=yaml_cfg.HEMT.slot[idx_C6],channel=yaml_cfg.HEMT.channel[idx_C6],\n",
    "                             drain_voltage=yaml_cfg.HEMT.drain_voltage[idx_C6],\n",
    "                               gate_voltage=yaml_cfg.HEMT.gate_voltage[idx_C6])"
   ]
  },
  {
   "attachments": {},
   "cell_type": "markdown",
   "metadata": {},
   "source": [
    "### Measure the drain current"
   ]
  },
  {
   "cell_type": "code",
   "execution_count": 21,
   "metadata": {},
   "outputs": [
    {
     "name": "stdout",
     "output_type": "stream",
     "text": [
      "Drain current set to: 0.032 mA\n",
      "Drain current set to: 0.032 mA\n",
      "Drain voltage set to: 0.593 V\n",
      "Drain voltage set to: 0.594 V\n",
      "Gate voltage set to: -1.250 V\n",
      "Gate voltage set to: -1.280 V\n"
     ]
    }
   ],
   "source": [
    "power_supply_C5C6.get_drain_current(slot=yaml_cfg.HEMT.slot[idx_C5], channel=yaml_cfg.HEMT.channel[idx_C5])\n",
    "power_supply_C5C6.get_drain_current(slot=yaml_cfg.HEMT.slot[idx_C6], channel=yaml_cfg.HEMT.channel[idx_C6])\n",
    "\n",
    "power_supply_C5C6.get_drain_voltage(slot=yaml_cfg.HEMT.slot[idx_C5], channel=yaml_cfg.HEMT.channel[idx_C5])\n",
    "power_supply_C5C6.get_drain_voltage(slot=yaml_cfg.HEMT.slot[idx_C6], channel=yaml_cfg.HEMT.channel[idx_C6])\n",
    "\n",
    "power_supply_C5C6.get_gate_voltage(slot=yaml_cfg.HEMT.slot[idx_C5], channel=yaml_cfg.HEMT.channel[idx_C5])\n",
    "power_supply_C5C6.get_gate_voltage(slot=yaml_cfg.HEMT.slot[idx_C6], channel=yaml_cfg.HEMT.channel[idx_C6])"
   ]
  },
  {
   "attachments": {},
   "cell_type": "markdown",
   "metadata": {},
   "source": [
    "### Fine tunning the gate voltage"
   ]
  },
  {
   "cell_type": "code",
   "execution_count": null,
   "metadata": {},
   "outputs": [],
   "source": [
    "# vg = np.linspace(-0.9, 1.1, 10)*yaml_cfg.HEMT.gate_voltage[idx_C5]\n",
    "# power_supply_C5C6.set_gate_voltage(voltage==yaml_cfg.HEMT.slot[idx_C5], channel=yaml_cfg.HEMT.channel[idx_C5])"
   ]
  }
 ],
 "metadata": {
  "kernelspec": {
   "display_name": "slab",
   "language": "python",
   "name": "python3"
  },
  "language_info": {
   "codemirror_mode": {
    "name": "ipython",
    "version": 3
   },
   "file_extension": ".py",
   "mimetype": "text/x-python",
   "name": "python",
   "nbconvert_exporter": "python",
   "pygments_lexer": "ipython3",
   "version": "3.10.9"
  },
  "orig_nbformat": 4
 },
 "nbformat": 4,
 "nbformat_minor": 2
}
